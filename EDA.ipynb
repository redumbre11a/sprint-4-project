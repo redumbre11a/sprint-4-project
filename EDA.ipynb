{
 "cells": [
  {
   "attachments": {},
   "cell_type": "markdown",
   "metadata": {},
   "source": [
    "# Car Web App Analysis <a class=\"tocSkip\">"
   ]
  },
  {
   "attachments": {},
   "cell_type": "markdown",
   "metadata": {},
   "source": [
    "## Contents <a class=\"tocSkip\"> <a id='back'></a>\n",
    "\n",
    "* [Introduction](#introduction)\n",
    "* [1. Data Overview](#data_overview)\n",
    "    * [1.1 Initialization](#initialization)\n",
    "    * [1.2 Load Data](#load_data)\n",
    "* [2. Prepare the Data](#prepare_data)\n",
    "* [3. Analysis](#analysis)\n",
    "* [4. General conclusion](#conclusion)"
   ]
  },
  {
   "attachments": {},
   "cell_type": "markdown",
   "metadata": {},
   "source": [
    "# Introduction <a id='introduction'></a>\n",
    "\n",
    "The focus of this project is to focus on common software engineering techniques to create and manage python virtual environments, developing a web application, and deploying it to the cloud service, Render, to make it accesible to the public.\n",
    "\n",
    "The provided dataset `vehicles_us.csv` is provided for the analysis."
   ]
  },
  {
   "attachments": {},
   "cell_type": "markdown",
   "metadata": {},
   "source": [
    "# Data Overview <a id='data_overview'></a>"
   ]
  },
  {
   "attachments": {},
   "cell_type": "markdown",
   "metadata": {},
   "source": [
    "## Initialization <a id='initialization'></a>"
   ]
  },
  {
   "cell_type": "code",
   "execution_count": 29,
   "metadata": {},
   "outputs": [],
   "source": [
    "# importing applicable libraries\n",
    "import pandas as pd\n",
    "import plotly.express as px\n",
    "import streamlit as st"
   ]
  },
  {
   "attachments": {},
   "cell_type": "markdown",
   "metadata": {},
   "source": [
    "## Load data <a id='load_data'></a>"
   ]
  },
  {
   "cell_type": "code",
   "execution_count": 30,
   "metadata": {},
   "outputs": [],
   "source": [
    "# Load the dataset\n",
    "df = pd.read_csv('vehicles_us.csv')\n",
    "\n",
    "df['manufacturer'] = df['model'].apply(lambda x:\n",
    "x.split()[0])"
   ]
  },
  {
   "attachments": {},
   "cell_type": "markdown",
   "metadata": {},
   "source": [
    "# Prepare the data <a id='prepare_data'></a>"
   ]
  },
  {
   "cell_type": "code",
   "execution_count": 31,
   "metadata": {},
   "outputs": [
    {
     "name": "stdout",
     "output_type": "stream",
     "text": [
      "<class 'pandas.core.frame.DataFrame'>\n",
      "RangeIndex: 51525 entries, 0 to 51524\n",
      "Data columns (total 14 columns):\n",
      " #   Column        Non-Null Count  Dtype  \n",
      "---  ------        --------------  -----  \n",
      " 0   price         51525 non-null  int64  \n",
      " 1   model_year    47906 non-null  float64\n",
      " 2   model         51525 non-null  object \n",
      " 3   condition     51525 non-null  object \n",
      " 4   cylinders     46265 non-null  float64\n",
      " 5   fuel          51525 non-null  object \n",
      " 6   odometer      43633 non-null  float64\n",
      " 7   transmission  51525 non-null  object \n",
      " 8   type          51525 non-null  object \n",
      " 9   paint_color   42258 non-null  object \n",
      " 10  is_4wd        25572 non-null  float64\n",
      " 11  date_posted   51525 non-null  object \n",
      " 12  days_listed   51525 non-null  int64  \n",
      " 13  manufacturer  51525 non-null  object \n",
      "dtypes: float64(4), int64(2), object(8)\n",
      "memory usage: 5.5+ MB\n"
     ]
    }
   ],
   "source": [
    "# Print the general/summary information about the DataFrame\n",
    "df.info()"
   ]
  },
  {
   "cell_type": "code",
   "execution_count": 32,
   "metadata": {},
   "outputs": [
    {
     "data": {
      "text/html": [
       "<div>\n",
       "<style scoped>\n",
       "    .dataframe tbody tr th:only-of-type {\n",
       "        vertical-align: middle;\n",
       "    }\n",
       "\n",
       "    .dataframe tbody tr th {\n",
       "        vertical-align: top;\n",
       "    }\n",
       "\n",
       "    .dataframe thead th {\n",
       "        text-align: right;\n",
       "    }\n",
       "</style>\n",
       "<table border=\"1\" class=\"dataframe\">\n",
       "  <thead>\n",
       "    <tr style=\"text-align: right;\">\n",
       "      <th></th>\n",
       "      <th>price</th>\n",
       "      <th>model_year</th>\n",
       "      <th>model</th>\n",
       "      <th>condition</th>\n",
       "      <th>cylinders</th>\n",
       "      <th>fuel</th>\n",
       "      <th>odometer</th>\n",
       "      <th>transmission</th>\n",
       "      <th>type</th>\n",
       "      <th>paint_color</th>\n",
       "      <th>is_4wd</th>\n",
       "      <th>date_posted</th>\n",
       "      <th>days_listed</th>\n",
       "      <th>manufacturer</th>\n",
       "    </tr>\n",
       "  </thead>\n",
       "  <tbody>\n",
       "    <tr>\n",
       "      <th>0</th>\n",
       "      <td>9400</td>\n",
       "      <td>2011.0</td>\n",
       "      <td>bmw x5</td>\n",
       "      <td>good</td>\n",
       "      <td>6.0</td>\n",
       "      <td>gas</td>\n",
       "      <td>145000.0</td>\n",
       "      <td>automatic</td>\n",
       "      <td>SUV</td>\n",
       "      <td>NaN</td>\n",
       "      <td>1.0</td>\n",
       "      <td>2018-06-23</td>\n",
       "      <td>19</td>\n",
       "      <td>bmw</td>\n",
       "    </tr>\n",
       "    <tr>\n",
       "      <th>1</th>\n",
       "      <td>25500</td>\n",
       "      <td>NaN</td>\n",
       "      <td>ford f-150</td>\n",
       "      <td>good</td>\n",
       "      <td>6.0</td>\n",
       "      <td>gas</td>\n",
       "      <td>88705.0</td>\n",
       "      <td>automatic</td>\n",
       "      <td>pickup</td>\n",
       "      <td>white</td>\n",
       "      <td>1.0</td>\n",
       "      <td>2018-10-19</td>\n",
       "      <td>50</td>\n",
       "      <td>ford</td>\n",
       "    </tr>\n",
       "    <tr>\n",
       "      <th>2</th>\n",
       "      <td>5500</td>\n",
       "      <td>2013.0</td>\n",
       "      <td>hyundai sonata</td>\n",
       "      <td>like new</td>\n",
       "      <td>4.0</td>\n",
       "      <td>gas</td>\n",
       "      <td>110000.0</td>\n",
       "      <td>automatic</td>\n",
       "      <td>sedan</td>\n",
       "      <td>red</td>\n",
       "      <td>NaN</td>\n",
       "      <td>2019-02-07</td>\n",
       "      <td>79</td>\n",
       "      <td>hyundai</td>\n",
       "    </tr>\n",
       "    <tr>\n",
       "      <th>3</th>\n",
       "      <td>1500</td>\n",
       "      <td>2003.0</td>\n",
       "      <td>ford f-150</td>\n",
       "      <td>fair</td>\n",
       "      <td>8.0</td>\n",
       "      <td>gas</td>\n",
       "      <td>NaN</td>\n",
       "      <td>automatic</td>\n",
       "      <td>pickup</td>\n",
       "      <td>NaN</td>\n",
       "      <td>NaN</td>\n",
       "      <td>2019-03-22</td>\n",
       "      <td>9</td>\n",
       "      <td>ford</td>\n",
       "    </tr>\n",
       "    <tr>\n",
       "      <th>4</th>\n",
       "      <td>14900</td>\n",
       "      <td>2017.0</td>\n",
       "      <td>chrysler 200</td>\n",
       "      <td>excellent</td>\n",
       "      <td>4.0</td>\n",
       "      <td>gas</td>\n",
       "      <td>80903.0</td>\n",
       "      <td>automatic</td>\n",
       "      <td>sedan</td>\n",
       "      <td>black</td>\n",
       "      <td>NaN</td>\n",
       "      <td>2019-04-02</td>\n",
       "      <td>28</td>\n",
       "      <td>chrysler</td>\n",
       "    </tr>\n",
       "  </tbody>\n",
       "</table>\n",
       "</div>"
      ],
      "text/plain": [
       "   price  model_year           model  condition  cylinders fuel  odometer  \\\n",
       "0   9400      2011.0          bmw x5       good        6.0  gas  145000.0   \n",
       "1  25500         NaN      ford f-150       good        6.0  gas   88705.0   \n",
       "2   5500      2013.0  hyundai sonata   like new        4.0  gas  110000.0   \n",
       "3   1500      2003.0      ford f-150       fair        8.0  gas       NaN   \n",
       "4  14900      2017.0    chrysler 200  excellent        4.0  gas   80903.0   \n",
       "\n",
       "  transmission    type paint_color  is_4wd date_posted  days_listed  \\\n",
       "0    automatic     SUV         NaN     1.0  2018-06-23           19   \n",
       "1    automatic  pickup       white     1.0  2018-10-19           50   \n",
       "2    automatic   sedan         red     NaN  2019-02-07           79   \n",
       "3    automatic  pickup         NaN     NaN  2019-03-22            9   \n",
       "4    automatic   sedan       black     NaN  2019-04-02           28   \n",
       "\n",
       "  manufacturer  \n",
       "0          bmw  \n",
       "1         ford  \n",
       "2      hyundai  \n",
       "3         ford  \n",
       "4     chrysler  "
      ]
     },
     "metadata": {},
     "output_type": "display_data"
    }
   ],
   "source": [
    "# Print a sample of the df\n",
    "display(df.head())"
   ]
  },
  {
   "cell_type": "code",
   "execution_count": 33,
   "metadata": {},
   "outputs": [
    {
     "name": "stdout",
     "output_type": "stream",
     "text": [
      "0\n",
      "\n",
      "price               0\n",
      "model_year       3619\n",
      "model               0\n",
      "condition           0\n",
      "cylinders        5260\n",
      "fuel                0\n",
      "odometer         7892\n",
      "transmission        0\n",
      "type                0\n",
      "paint_color      9267\n",
      "is_4wd          25953\n",
      "date_posted         0\n",
      "days_listed         0\n",
      "manufacturer        0\n",
      "dtype: int64\n",
      "\n"
     ]
    }
   ],
   "source": [
    "# checking for duplicated rows\n",
    "print(df.duplicated().sum())\n",
    "print()\n",
    "\n",
    "# counting the number of missing values\n",
    "print(df.isna().sum())\n",
    "print()"
   ]
  },
  {
   "cell_type": "code",
   "execution_count": 34,
   "metadata": {},
   "outputs": [
    {
     "name": "stdout",
     "output_type": "stream",
     "text": [
      "% model_year rows missing = 7.023774866569626\n",
      "% cylinders rows missing = 10.208636584182436\n",
      "% odometer rows missing = 15.316836487142163\n",
      "% paint_color rows missing = 17.985443959243085\n",
      "% is_4wd rows missing = 50.36972343522562\n"
     ]
    }
   ],
   "source": [
    "# Calculating percentage of row with missing values to determine importance\n",
    "\n",
    "total_rows = 51525\n",
    "missing_model_year = 3619\n",
    "missing_cylinders = 5260\n",
    "missing_odometer = 7892\n",
    "missing_paint_color = 9267\n",
    "missing_is_4wd = 25953\n",
    "\n",
    "percent_missing_model_year = (missing_model_year/total_rows)*100\n",
    "print('% model_year rows missing =', percent_missing_model_year)\n",
    "\n",
    "percent_missing_cylinders = (missing_cylinders/total_rows)*100\n",
    "print('% cylinders rows missing =', percent_missing_cylinders)\n",
    "\n",
    "percent_missing_odometer = (missing_odometer/total_rows)*100\n",
    "print('% odometer rows missing =', percent_missing_odometer)\n",
    "\n",
    "percent_missing_paint_color = (missing_paint_color/total_rows)*100\n",
    "print('% paint_color rows missing =', percent_missing_paint_color)\n",
    "\n",
    "percent_missing_is_4wd = (missing_is_4wd/total_rows)*100\n",
    "print('% is_4wd rows missing =', percent_missing_is_4wd)\n"
   ]
  },
  {
   "attachments": {},
   "cell_type": "markdown",
   "metadata": {},
   "source": [
    "Missing model_year, cylinders, and odometer rows account for about 7%, 10%, and 15%, respectively, of the data. Due to these relatively low percentages and its inherent importance regarding accuracy when purchasing a car, missing values will be replaced with \"unknown\" rather than imputing a model year, cylinders, and odometer values.\n",
    "\n",
    "Missing paint_color rows are not a high-importance feature when choosing a car, thus the missing values will also be replaced with \"unknown\".\n",
    "\n",
    "While missing is_4wd rows accounts for about 50% of the data, because that is not the focus of this analysis, the missing values will be left with an \"N/A\" placeholder."
   ]
  },
  {
   "cell_type": "code",
   "execution_count": 35,
   "metadata": {},
   "outputs": [
    {
     "name": "stdout",
     "output_type": "stream",
     "text": [
      "price           0\n",
      "model_year      0\n",
      "model           0\n",
      "condition       0\n",
      "cylinders       0\n",
      "fuel            0\n",
      "odometer        0\n",
      "transmission    0\n",
      "type            0\n",
      "paint_color     0\n",
      "is_4wd          0\n",
      "date_posted     0\n",
      "days_listed     0\n",
      "manufacturer    0\n",
      "dtype: int64\n",
      "\n"
     ]
    }
   ],
   "source": [
    "# Replace missing values in the model_year column with \"unknown\"\n",
    "df['model_year'].fillna('unknown', inplace=True)\n",
    "\n",
    "# Replace missing values in the model_year column with \"unknown\"\n",
    "df['cylinders'].fillna('unknown', inplace=True)\n",
    "\n",
    "# Replace missing values in the model_year column with \"unknown\"\n",
    "df['odometer'].fillna('unknown', inplace=True)\n",
    "\n",
    "# Replace missing values in the model_year column with \"unknown\"\n",
    "df['paint_color'].fillna('unknown', inplace=True)\n",
    "\n",
    "# Replace missing values in the model_year column with \"unknown\"\n",
    "df['is_4wd'].fillna('unknown', inplace=True)\n",
    "\n",
    "# Confirm no more missing values\n",
    "print(df.isna().sum())\n",
    "print()"
   ]
  },
  {
   "attachments": {},
   "cell_type": "markdown",
   "metadata": {},
   "source": [
    "Because no numerical calculations are being performed for analysis, it is not needed to change data types for the columns."
   ]
  },
  {
   "attachments": {},
   "cell_type": "markdown",
   "metadata": {},
   "source": [
    "# Analysis <a id='analysis'></a>"
   ]
  },
  {
   "cell_type": "code",
   "execution_count": 36,
   "metadata": {},
   "outputs": [
    {
     "name": "stderr",
     "output_type": "stream",
     "text": [
      "2023-06-23 22:50:05.421 \n",
      "  \u001b[33m\u001b[1mWarning:\u001b[0m to view this Streamlit app on a browser, run it with the following\n",
      "  command:\n",
      "\n",
      "    streamlit run C:\\Users\\toria\\AppData\\Roaming\\Python\\Python310\\site-packages\\ipykernel_launcher.py [ARGUMENTS]\n",
      "2023-06-23 22:50:09.876 Serialization of dataframe to Arrow table was unsuccessful due to: (\"Could not convert 'unknown' with type str: tried to convert to double\", 'Conversion failed for column model_year with type object'). Applying automatic fixes for column types to make the dataframe Arrow-compatible.\n"
     ]
    },
    {
     "data": {
      "text/plain": [
       "DeltaGenerator()"
      ]
     },
     "execution_count": 36,
     "metadata": {},
     "output_type": "execute_result"
    }
   ],
   "source": [
    "# Perform exploratory analysis\n",
    "\n",
    "st.header('Car Analysis App')\n",
    "st.subheader('Exploring Car Advertisement Data')\n",
    "\n",
    "# data viewer\n",
    "# create a text header above the dataframe\n",
    "st.header('Data Viewer') \n",
    "# display the dataframe with streamlit\n",
    "st.dataframe(df)"
   ]
  },
  {
   "cell_type": "code",
   "execution_count": 37,
   "metadata": {},
   "outputs": [],
   "source": [
    "# vehicle types by manufacturer\n",
    "st.header('Vehicle types by manufacturer')\n",
    "# create a plotly histogram figure\n",
    "fig = px.histogram(df, x='manufacturer', color='type')\n",
    "# display the figure with streamlit\n",
    "st.write(fig)"
   ]
  },
  {
   "cell_type": "code",
   "execution_count": 38,
   "metadata": {},
   "outputs": [],
   "source": [
    "# histogram of condition vs model year\n",
    "st.header('Histogram of `condition` vs `model_year`')\n",
    "fig = px.histogram(df, x='model_year', color='condition')\n",
    "st.write(fig)"
   ]
  },
  {
   "cell_type": "code",
   "execution_count": 39,
   "metadata": {},
   "outputs": [
    {
     "data": {
      "text/plain": [
       "DeltaGenerator()"
      ]
     },
     "execution_count": 39,
     "metadata": {},
     "output_type": "execute_result"
    }
   ],
   "source": [
    "# histogram of car prices\n",
    "st.header('Histogram of Car Prices')\n",
    "fig = px.histogram(df, x='price')\n",
    "st.plotly_chart(fig)"
   ]
  },
  {
   "cell_type": "code",
   "execution_count": 40,
   "metadata": {},
   "outputs": [
    {
     "data": {
      "text/plain": [
       "DeltaGenerator()"
      ]
     },
     "execution_count": 40,
     "metadata": {},
     "output_type": "execute_result"
    }
   ],
   "source": [
    "# scatter plot of mileage vs price\n",
    "st.header('Scatter Plot of Mileage vs Price')\n",
    "fig = px.scatter(df, x='odometer', y='price')\n",
    "st.plotly_chart(fig)"
   ]
  },
  {
   "cell_type": "code",
   "execution_count": 41,
   "metadata": {},
   "outputs": [],
   "source": [
    "# compare price distribution between manufacturers\n",
    "st.header('Compare price distribution between manufacturers')\n",
    "# get a list of car manufactureres\n",
    "manufac_list = sorted(df['manufacturer'].unique())\n",
    "# get user's inputs from a dropdown menu\n",
    "manufacturer_1 = st.selectbox(\n",
    "                                label='Select manufacturer 1', # title of the select box\n",
    "                                options=manufac_list, #options listed in the select box\n",
    "                                index=manufac_list.index('chevrolet') # default pre-selected option\n",
    "                                )\n",
    "# repeat for the second dropdown menu\n",
    "manufacturer_2 = st.selectbox(\n",
    "                                label='Select manufacturer 2',\n",
    "                                options=manufac_list,\n",
    "                                index=manufac_list.index('hyundai')\n",
    "                                )\n",
    "#filter the dataframe\n",
    "mask_filter = (df['manufacturer'] == manufacturer_1) | (df['manufacturer'] == manufacturer_2)\n",
    "df_filtered = df[mask_filter]\n",
    "\n",
    "# add a checkbox if a user wants to normalize the histogram\n",
    "normalize = st.checkbox('Normalize histogram', value=True)\n",
    "if normalize:\n",
    "    histnorm = 'percent'\n",
    "else:\n",
    "    histnorm = None\n",
    "\n",
    "# create a plotly histogram figure\n",
    "fig = px.histogram(df_filtered,\n",
    "                    x='price',\n",
    "                    nbins=30,\n",
    "                    color='manufacturer',\n",
    "                    histnorm=histnorm,\n",
    "                    barmode='overlay')\n",
    "\n",
    "# display the figure with streamlit\n",
    "st.write(fig)"
   ]
  },
  {
   "attachments": {},
   "cell_type": "markdown",
   "metadata": {},
   "source": [
    "# Conclusion <a id='conclusion'></a>"
   ]
  },
  {
   "attachments": {},
   "cell_type": "markdown",
   "metadata": {},
   "source": [
    "Based on the analysis, Ford and Chevrolet appear to be the top top two manufacturers regarding types of vehicles produced based on the bar graph of vehicle types by manufacturer. Looking at the histogram of condition vs model_year, there are about twice as many vehicles that are in excellent or new condition as well, most of which being aroud the year 2013. Based on the histogram of car prices, vehicles at about $5000 appear to be the most common, with less and less cars available as the price goes up. As one would expect, looking at the scatterplot, the price of the vehicle also decreases as mileage increases.\n",
    "\n",
    "This data analysis may be viewed on Render at https://sprint-4-project-kpit.onrender.com/"
   ]
  }
 ],
 "metadata": {
  "kernelspec": {
   "display_name": "Python 3",
   "language": "python",
   "name": "python3"
  },
  "language_info": {
   "codemirror_mode": {
    "name": "ipython",
    "version": 3
   },
   "file_extension": ".py",
   "mimetype": "text/x-python",
   "name": "python",
   "nbconvert_exporter": "python",
   "pygments_lexer": "ipython3",
   "version": "3.10.11"
  },
  "orig_nbformat": 4
 },
 "nbformat": 4,
 "nbformat_minor": 2
}
