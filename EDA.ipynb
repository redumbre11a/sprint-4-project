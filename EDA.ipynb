{
 "cells": [
  {
   "cell_type": "code",
   "execution_count": 1,
   "metadata": {},
   "outputs": [],
   "source": [
    "# importing applicable libraries\n",
    "import pandas as pd\n",
    "import plotly.express as px\n",
    "import streamlit as st"
   ]
  },
  {
   "cell_type": "code",
   "execution_count": 2,
   "metadata": {},
   "outputs": [],
   "source": [
    "# Load the dataset\n",
    "df = pd.read_csv('vehicles_us.csv')\n",
    "\n",
    "df['manufacturer'] = df['model'].apply(lambda x:\n",
    "x.split()[0])"
   ]
  },
  {
   "cell_type": "code",
   "execution_count": 3,
   "metadata": {},
   "outputs": [
    {
     "name": "stderr",
     "output_type": "stream",
     "text": [
      "2023-06-21 08:51:18.029 \n",
      "  \u001b[33m\u001b[1mWarning:\u001b[0m to view this Streamlit app on a browser, run it with the following\n",
      "  command:\n",
      "\n",
      "    streamlit run C:\\Users\\toria\\AppData\\Roaming\\Python\\Python310\\site-packages\\ipykernel_launcher.py [ARGUMENTS]\n"
     ]
    },
    {
     "data": {
      "text/plain": [
       "DeltaGenerator()"
      ]
     },
     "execution_count": 3,
     "metadata": {},
     "output_type": "execute_result"
    }
   ],
   "source": [
    "# Perform exploratory analysis\n",
    "\n",
    "st.header('Car Analysis App')\n",
    "st.subheader('Exploring Car Advertisement Data')\n",
    "\n",
    "# data viewer\n",
    "# create a text header above the dataframe\n",
    "st.header('Data Viewer') \n",
    "# display the dataframe with streamlit\n",
    "st.dataframe(df)"
   ]
  },
  {
   "cell_type": "code",
   "execution_count": 4,
   "metadata": {},
   "outputs": [],
   "source": [
    "# vehicle types by manufacturer\n",
    "st.header('Vehicle types by manufacturer')\n",
    "# create a plotly histogram figure\n",
    "fig = px.histogram(df, x='manufacturer', color='type')\n",
    "# display the figure with streamlit\n",
    "st.write(fig)"
   ]
  },
  {
   "cell_type": "code",
   "execution_count": 5,
   "metadata": {},
   "outputs": [],
   "source": [
    "# histogram of condition vs model year\n",
    "st.header('Histogram of `condition` vs `model_year`')\n",
    "fig = px.histogram(df, x='model_year', color='condition')\n",
    "st.write(fig)"
   ]
  },
  {
   "cell_type": "code",
   "execution_count": 6,
   "metadata": {},
   "outputs": [
    {
     "data": {
      "text/plain": [
       "DeltaGenerator()"
      ]
     },
     "execution_count": 6,
     "metadata": {},
     "output_type": "execute_result"
    }
   ],
   "source": [
    "# histogram of car prices\n",
    "st.header('Histogram of Car Prices')\n",
    "fig = px.histogram(df, x='price')\n",
    "st.plotly_chart(fig)"
   ]
  },
  {
   "cell_type": "code",
   "execution_count": 7,
   "metadata": {},
   "outputs": [
    {
     "data": {
      "text/plain": [
       "DeltaGenerator()"
      ]
     },
     "execution_count": 7,
     "metadata": {},
     "output_type": "execute_result"
    }
   ],
   "source": [
    "# scatter plot of mileage vs price\n",
    "st.header('Scatter Plot of Mileage vs Price')\n",
    "fig = px.scatter(df, x='odometer', y='price')\n",
    "st.plotly_chart(fig)"
   ]
  },
  {
   "cell_type": "code",
   "execution_count": 8,
   "metadata": {},
   "outputs": [],
   "source": [
    "# compare price distribution between manufacturers\n",
    "st.header('Compare price distribution between manufacturers')\n",
    "# get a list of car manufactureres\n",
    "manufac_list = sorted(df['manufacturer'].unique())\n",
    "# get user's inputs from a dropdown menu\n",
    "manufacturer_1 = st.selectbox(\n",
    "                                label='Select manufacturer 1', # title of the select box\n",
    "                                options=manufac_list, #options listed in the select box\n",
    "                                index=manufac_list.index('chevrolet') # default pre-selected option\n",
    "                                )\n",
    "# repeat for the second dropdown menu\n",
    "manufacturer_2 = st.selectbox(\n",
    "                                label='Select manufacturer 2',\n",
    "                                options=manufac_list,\n",
    "                                index=manufac_list.index('hyundai')\n",
    "                                )\n",
    "#filter the dataframe\n",
    "mask_filter = (df['manufacturer'] == manufacturer_1) | (df['manufacturer'] == manufacturer_2)\n",
    "df_filtered = df[mask_filter]\n",
    "\n",
    "# add a checkbox if a user wants to normalize the histogram\n",
    "normalize = st.checkbox('Normalize histogram', value=True)\n",
    "if normalize:\n",
    "    histnorm = 'percent'\n",
    "else:\n",
    "    histnorm = None\n",
    "\n",
    "# create a plotly histogram figure\n",
    "fig = px.histogram(df_filtered,\n",
    "                    x='price',\n",
    "                    nbins=30,\n",
    "                    color='manufacturer',\n",
    "                    histnorm=histnorm,\n",
    "                    barmode='overlay')\n",
    "\n",
    "# display the figure with streamlit\n",
    "st.write(fig)"
   ]
  }
 ],
 "metadata": {
  "kernelspec": {
   "display_name": "Python 3",
   "language": "python",
   "name": "python3"
  },
  "language_info": {
   "codemirror_mode": {
    "name": "ipython",
    "version": 3
   },
   "file_extension": ".py",
   "mimetype": "text/x-python",
   "name": "python",
   "nbconvert_exporter": "python",
   "pygments_lexer": "ipython3",
   "version": "3.10.11"
  },
  "orig_nbformat": 4
 },
 "nbformat": 4,
 "nbformat_minor": 2
}
